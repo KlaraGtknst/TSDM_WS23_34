{
 "cells": [
  {
   "cell_type": "markdown",
   "metadata": {},
   "source": [
    "# Temporal and Spatial DataMining\n",
    "\n",
    "\n",
    "## Exercise 01: Python Basics\n",
    "\n",
    "The following task covers the basics for creating browser-based scripts (Notebooks) based on Python code. Using Python is effectively for interactive scientific and data-intensive computing. This Notebook will start by stepping through some of the Python features that are useful to the practice of data science, focusing especially on the syntax it offers beyond the standard features of Python"
   ]
  },
  {
   "cell_type": "code",
   "execution_count": null,
   "metadata": {},
   "outputs": [],
   "source": [
    "import numpy as np\n",
    "import matplotlib.pyplot as plt\n",
    "import pandas as pd\n",
    "\n",
    "# print(plt.style.available)\n",
    "plt.style.use('seaborn-v0_8-colorblind')\n",
    "\n",
    "import cartopy.crs as ccrs\n",
    "import cartopy.io.shapereader as shpreader"
   ]
  },
  {
   "cell_type": "markdown",
   "metadata": {},
   "source": [
    "I strongly recommend installation using conda as it will bring in all of the executable dependencies that cartopy requires. \n",
    "\n",
    "With conda installed, installing the latest version of cartopy would look like:\n",
    "\n",
    "`>>conda install --channel conda-forge cartopy`"
   ]
  },
  {
   "cell_type": "markdown",
   "metadata": {},
   "source": [
    "---\n",
    "### Task 1: Vectors and matrices\n",
    "\n",
    "This will be a quick introduction to some common operations in numpy."
   ]
  },
  {
   "cell_type": "markdown",
   "metadata": {},
   "source": [
    "- create the vectors $x$ and $y$\n",
    "\n",
    "    $x=\\begin{pmatrix}-2.0 \\\\ 4.0\\end{pmatrix}$ \n",
    "\n",
    "    $y=\\begin{pmatrix}5.0 \\\\ 1.0\\end{pmatrix}$\n",
    "\n",
    "\n",
    "- print the vectors using `print()`\n",
    "- print the first entry of the vector $x$ and the last entry of the vector $y$\n",
    ">__Note__: A certain value can be accessed via the [index] within the square brackets. Note that the first entry with the index 0 is selected.\n"
   ]
  },
  {
   "cell_type": "code",
   "execution_count": null,
   "metadata": {},
   "outputs": [],
   "source": [
    "####################\n",
    "# Your Code Here   #\n",
    "####################"
   ]
  },
  {
   "cell_type": "markdown",
   "metadata": {},
   "source": [
    " Perform the following operations with vectors $\\mathbf{a}$ and $\\mathbf{b}$:\n",
    " - Dot or Scalar Product: $c = \\mathbf{a}^\\mathrm{T}  \\mathbf{b}$\n",
    " - Outer Product: $\\mathbf{C} = \\mathbf{a} \\mathbf{b}^\\mathrm{T}$\n",
    " - Elementwise Multiplication: $\\mathbf{c} = \\mathbf{a} \\odot \\mathbf{b}$ where $c_i = a_i \\cdot b_i$\n",
    "\n",
    ">**Reference**: [linalg](https://docs.scipy.org/doc/numpy-1.13.0/reference/routines.linalg.html)"
   ]
  },
  {
   "cell_type": "code",
   "execution_count": null,
   "metadata": {},
   "outputs": [],
   "source": [
    "####################\n",
    "# Your Code Here   #\n",
    "####################"
   ]
  },
  {
   "cell_type": "markdown",
   "metadata": {},
   "source": [
    "The second important structure in linear algebra are for sure *matrices*. These can be created using numpy arrays as well, by nesting *lists* (a list is defined by using brackets '[' and ']'):"
   ]
  },
  {
   "cell_type": "code",
   "execution_count": null,
   "metadata": {},
   "outputs": [],
   "source": [
    "M = np.array([[1, 4], [3, 7]])\n",
    "N = np.array([[3, 1], [4, 5]])\n",
    "\n",
    "print(\"Matrix M =\\n\", M, '\\n')\n",
    "print(\"Matrix N =\\n\", N, '\\n')"
   ]
  },
  {
   "cell_type": "markdown",
   "metadata": {},
   "source": [
    "Additionally numpy provides its own type for matrices called **matrix**. You can either convert your existing arrays to a matrix or create new ones from lists:\n",
    "\n",
    ">**Reference:** [matrix](https://docs.scipy.org/doc/numpy/reference/generated/numpy.matrix.html)"
   ]
  },
  {
   "cell_type": "code",
   "execution_count": null,
   "metadata": {},
   "outputs": [],
   "source": [
    "# Convert\n",
    "v = np.asmatrix(x).T\n",
    "\n",
    "# Create new object\n",
    "u = np.asmatrix(y).T\n",
    "\n",
    "# Define new matrix (nesting lists)\n",
    "A = np.asmatrix([[1.0, -0.5], [-0.5, 1.0]])\n",
    "# Define new Matrix using existing arrays\n",
    "B = np.matrix([x, y])\n",
    "\n",
    "print(\"Vector x as np.array: \", x, \"Dimension: \", x.shape)\n",
    "print(\"Vector v as np.matrix: \", v, \"Dimension: \", v.shape)\n",
    "print(\"v:vector transposed: \\n\", v.T, '\\n')\n",
    "\n",
    "print('Matrix A = \\n', A, '\\n')\n",
    "print('Matrix B = \\n', B, '\\n')"
   ]
  },
  {
   "cell_type": "markdown",
   "metadata": {},
   "source": [
    "Numpy makes it simple to perform common matrix operations\n",
    "\n",
    "- perform the following operations: \n",
    "    - $\\mathbf{A}= (\\mathbf{v}-\\mathbf{u})^\\text{T}\\cdot\\mathbf{M}\\cdot(\\mathbf{v}-\\mathbf{u})$"
   ]
  },
  {
   "cell_type": "code",
   "execution_count": null,
   "metadata": {},
   "outputs": [],
   "source": [
    "# use the following Matrix M\n",
    "M = np.matrix([[1,2], [3,4]])\n",
    "\n",
    "####################\n",
    "# Your Code Here   #\n",
    "####################"
   ]
  },
  {
   "cell_type": "markdown",
   "metadata": {},
   "source": [
    ">**Functions**:\n",
    "\n",
    ">A function is a block of code (started by `def`) which only runs when it is called. You can pass data, known as parameters, into a function. A function can return data as a result."
   ]
  },
  {
   "cell_type": "markdown",
   "metadata": {},
   "source": []
  },
  {
   "cell_type": "code",
   "execution_count": null,
   "metadata": {},
   "outputs": [],
   "source": [
    "def example_function(a, inc):\n",
    "    \"\"\"This is a docstring to document your function!\"\"\"\n",
    "    c = a + inc\n",
    "    return c\n",
    "\n",
    "print(example_function(\"hello\", \" world\"))\n",
    "print(example_function(100, 20))\n",
    "print(example_function(x, y))"
   ]
  },
  {
   "cell_type": "markdown",
   "metadata": {},
   "source": [
    ">Anonymous functions can also be created using *lambda*:"
   ]
  },
  {
   "cell_type": "code",
   "execution_count": null,
   "metadata": {},
   "outputs": [],
   "source": [
    "# also adds two parameters and returns the sum\n",
    "\n",
    "add2 = lambda a, b : a+b\n",
    "add2(3, 4)"
   ]
  },
  {
   "cell_type": "markdown",
   "metadata": {},
   "source": [
    "The euclidean distance of two vectors is defined as:\n",
    "$$d(p, q)=\\|q-p\\|_{2}=\\sqrt{\\left(q_{1}-p_{1}\\right)^{2}+\\cdots+\\left(q_{n}-p_{n}\\right)^{2}}=\\sqrt{\\sum_{i=1}^{n}\\left(q_{i}-p_{i}\\right)^{2}}$$\n",
    "\n",
    "> **Note:** To calculate the square root use **np.sqrt** on arrays you can rely on pythons syntactic sugar (**x\\*\\*n** =$y^n$) for exponentiation."
   ]
  },
  {
   "cell_type": "markdown",
   "metadata": {},
   "source": [
    "- Implement the function *euc_loop* using numpy arrays (e.g. **x** and **y**) using a [for loop](https://docs.python.org/3/tutorial/controlflow.html)"
   ]
  },
  {
   "cell_type": "code",
   "execution_count": null,
   "metadata": {},
   "outputs": [],
   "source": [
    "####################\n",
    "# Your Code Here   #\n",
    "####################"
   ]
  },
  {
   "cell_type": "markdown",
   "metadata": {},
   "source": [
    "- Implement the function *euc_sum* using numpy arrays (e.g. **a** and **b**) and **np.sum**. \n",
    "\n",
    ">__Note__: You should not use any loops in your solution."
   ]
  },
  {
   "cell_type": "code",
   "execution_count": null,
   "metadata": {},
   "outputs": [],
   "source": [
    "####################\n",
    "# Your Code Here   #\n",
    "####################"
   ]
  },
  {
   "cell_type": "markdown",
   "metadata": {},
   "source": [
    "Implement the function *euc* using numpy _matrices_ (e.g. __u__ and __v__)\n",
    "\n",
    ">__Note__: Recall the definition of the Euclidean distance using the dot product."
   ]
  },
  {
   "cell_type": "code",
   "execution_count": null,
   "metadata": {},
   "outputs": [],
   "source": [
    "####################\n",
    "# Your Code Here   #\n",
    "####################"
   ]
  },
  {
   "cell_type": "markdown",
   "metadata": {},
   "source": [
    "The euclidean distance is a special form of the <a href=\"https://en.wikipedia.org/wiki/Norm_(mathematics)#p-norm\">p-norm</a>:\n",
    "\n",
    "$pnorm(\\mathbf{u},\\mathbf{v},p) = (\\sum_d^D |u_d - v_d|^p)^{\\frac{1}{p}}$\n",
    "\n",
    "- Implement a function **pnorm** with takes as argument two vectors **a**, **b** and a parameter **p**:"
   ]
  },
  {
   "cell_type": "code",
   "execution_count": null,
   "metadata": {},
   "outputs": [],
   "source": [
    "####################\n",
    "# Your Code Here   #\n",
    "####################"
   ]
  },
  {
   "cell_type": "markdown",
   "metadata": {},
   "source": [
    "The [Mahalanobis distance](https://en.wikipedia.org/wiki/Mahalanobis_distance) of two vectors __u__, __v__ and a covariance matrix __S__ is given by: $\\Delta(\\mathbf{u}, \\mathbf{v}) = \\sqrt{(\\mathbf{u}-\\mathbf{v})^TS^{-1}(\\mathbf{u}-\\mathbf{v})}$\n",
    "\n",
    "with the vektors: **u**$=\\begin{pmatrix}u_{1} \\\\ u_{2} \\\\ ... \\\\ u_{n-1} \\\\ u_{n} \\end{pmatrix}$ and \n",
    "**v**$= \\begin{pmatrix} v_{1} \\\\ v_{2} \\\\ ... \\\\ v_{n-1} \\\\ v_{n} \\end{pmatrix}$\n",
    "\n",
    "A covariance matrix is a symmetric, positive semidefinite matrix. Use the provided matrix S:\n",
    "\n",
    "$S=\\begin{pmatrix}1.2 & -0.7 \\\\ -0.7 & 1.2 \\end{pmatrix}$"
   ]
  },
  {
   "cell_type": "code",
   "execution_count": null,
   "metadata": {},
   "outputs": [],
   "source": [
    "S = np.matrix([[1.2, -.7], [-.7, 1.2]])"
   ]
  },
  {
   "cell_type": "markdown",
   "metadata": {},
   "source": [
    "- Implement a function **mahalanobis** which takes as argument two vectors __a__, __b__ and a matrix **S**:\n",
    "\n",
    ">__Note:__ __a__ and __b__ are two numpy arrays. "
   ]
  },
  {
   "cell_type": "code",
   "execution_count": null,
   "metadata": {},
   "outputs": [],
   "source": [
    "####################\n",
    "# Your Code Here   #\n",
    "####################"
   ]
  },
  {
   "cell_type": "markdown",
   "metadata": {},
   "source": [
    "- What happens if the covariance matrix **S** is equal to the identity matrix **I**?\n",
    "Confirm your hypothesis by using numpys **np.eye**."
   ]
  },
  {
   "cell_type": "code",
   "execution_count": null,
   "metadata": {},
   "outputs": [],
   "source": [
    "####################\n",
    "# Your Code Here   #\n",
    "####################"
   ]
  },
  {
   "cell_type": "markdown",
   "metadata": {},
   "source": [
    "**Further tasks**\n",
    "- Work out the basic functions of the library *numpy* with the help of a freely chosen tutorial (e.g. http://www.python-kurs.eu/numpy.php).\n",
    "- Many other commands are also available e.g. on https://docs.scipy.org/doc/numpy-1.13.0/reference/routines.linalg.html."
   ]
  },
  {
   "cell_type": "markdown",
   "metadata": {},
   "source": [
    "---\n",
    "### Task 2: Plotting\n",
    "\n",
    "This exercise is about getting to know different plot mechanisms. You will be provided with 2 different data sets. Data set 1 serves to represent temporal data and data set 2 serves to represent spatial data. The additional task deals with the moving average and uses the same data set as in task 1."
   ]
  },
  {
   "cell_type": "markdown",
   "metadata": {},
   "source": [
    "Plotting is an essential tool for data visualization. You should read this [quick tutorial](https://matplotlib.org/tutorials/introductory/pyplot.html) on how to use matplotlib."
   ]
  },
  {
   "cell_type": "markdown",
   "metadata": {},
   "source": [
    "#### Plot temporal data\n",
    "\n",
    "The task is to graphically display the given data.\n",
    "\n",
    "To do this, follow these steps:\n",
    "\n",
    "- Read in the time series\n",
    "\n",
    "- Display the time series as a Line Plot\n",
    "\n",
    "- Use the timestamp of the time series as x-axis label\n",
    "\n",
    "- What is a meaningful label for the y-axis?\n",
    "\n",
    "- Enlarge the area of the graph"
   ]
  },
  {
   "cell_type": "code",
   "execution_count": null,
   "metadata": {},
   "outputs": [],
   "source": [
    "# read time series\n",
    "# replace path with own path\n",
    "data_df = pd.read_csv('data/relative_power_generation.csv', index_col=0)\n",
    "data_df.index = pd.to_datetime(data_df.index)\n",
    "\n",
    "####################\n",
    "# Your Code Here   #\n",
    "####################"
   ]
  },
  {
   "cell_type": "markdown",
   "metadata": {},
   "source": [
    "#### Plot spatial data\n",
    "\n",
    "The next task deals with the representation of data on maps.\n",
    "\n",
    "The following steps have to be solved:\n",
    "\n",
    "- Read in the spatial data\n",
    "\n",
    "- Display the points on the map with different sizes depending on their values.\n",
    "\n",
    ">**Hint:** Lon and Lat Values need to be projected into the map geometries\n",
    "\n",
    "- run the following line to check the documentation `mrc.transform_points?`"
   ]
  },
  {
   "cell_type": "code",
   "execution_count": null,
   "metadata": {},
   "outputs": [],
   "source": [
    "# read the data\n",
    "# Columns in data:  NaN, size, lat, lon\n",
    "spatial_data = np.genfromtxt('data/german_cities_with_population.csv', delimiter=',')\n",
    "\n",
    "# values of individual columns\n",
    "\n",
    "####################\n",
    "# Your Code Here   #\n",
    "####################"
   ]
  },
  {
   "cell_type": "code",
   "execution_count": null,
   "metadata": {},
   "outputs": [],
   "source": [
    "mrc = ccrs.Mercator()\n",
    "\n",
    "# just to zoom in to only Germany\n",
    "lons = np.array([5.87, 15.04])\n",
    "lats = np.array([47.26, 55.06])\n",
    "\n",
    "fig = plt.figure(figsize=(30,15))  # predefined figure size, change to your liking. \n",
    "# But doesn't matter if you save to any vector graphics format though (e.g. pdf)\n",
    "\n",
    "# Downloaded from http://biogeo.ucdavis.edu/data/gadm2/shp/DEU_adm.zip\n",
    "fname = 'data/DEU_adm1'\n",
    "adm1_shapes = list(shpreader.Reader(fname).geometries())\n",
    "\n",
    "\n",
    "ax = plt.axes(projection = mrc)\n",
    "ax.coastlines(resolution='10m')\n",
    "ax.add_geometries(adm1_shapes, ccrs.PlateCarree(),\n",
    "                  edgecolor='black', facecolor='white', alpha=0.5)\n",
    "\n",
    "ax.set_extent(np.hstack([lons, lats]), ccrs.PlateCarree()) \n",
    "\n",
    "####################\n",
    "# Your Code Here   #\n",
    "####################\n",
    "\n",
    "plt.show()"
   ]
  },
  {
   "cell_type": "markdown",
   "metadata": {},
   "source": [
    "#### Additional task: moving average\n",
    "\n",
    "Find out briefly what a Moving Average is. You've already explored loops and indexing in the previous exercise. Think about how to write an algorithm that outputs the moving average for a given time series.\n",
    "\n",
    "- What is a moving average\n",
    "\n",
    "- Write a function or an algorithm that implements the moving average\n",
    "\n",
    "- Display the original time series and time series using a moving average filter.\n",
    "\n",
    "- Is it possible to use other properties besides the mean?"
   ]
  },
  {
   "cell_type": "code",
   "execution_count": null,
   "metadata": {},
   "outputs": [],
   "source": [
    "a = np.genfromtxt('data/relative_power_generation.csv', delimiter=',')\n",
    "\n",
    "plt.figure(num=None, figsize=(8, 6), dpi=100, facecolor='w', edgecolor='k')\n",
    "\n",
    "y=a[1:,1]\n",
    "x=np.linspace(0,len(y),2000)\n",
    "\n",
    "####################\n",
    "# Your Code Here   #\n",
    "####################"
   ]
  }
 ],
 "metadata": {
  "kernelspec": {
   "display_name": "Python 3",
   "language": "python",
   "name": "python3"
  },
  "language_info": {
   "codemirror_mode": {
    "name": "ipython",
    "version": 3
   },
   "file_extension": ".py",
   "mimetype": "text/x-python",
   "name": "python",
   "nbconvert_exporter": "python",
   "pygments_lexer": "ipython3",
   "version": "3.9.18"
  }
 },
 "nbformat": 4,
 "nbformat_minor": 4
}
