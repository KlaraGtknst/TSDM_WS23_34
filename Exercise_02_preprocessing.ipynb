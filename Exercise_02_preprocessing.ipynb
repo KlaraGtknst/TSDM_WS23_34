{
 "cells": [
  {
   "cell_type": "markdown",
   "metadata": {},
   "source": [
    "# Temporal and Spatial DataMining\n",
    "## Exercise_02_Preprocessing"
   ]
  },
  {
   "cell_type": "code",
   "execution_count": null,
   "metadata": {},
   "outputs": [],
   "source": [
    "import matplotlib.pyplot as plt\n",
    "import numpy as np\n",
    "import pandas as pd\n",
    "\n",
    "plt.style.use('ggplot')"
   ]
  },
  {
   "cell_type": "markdown",
   "metadata": {},
   "source": [
    "### Task 1: Missing values"
   ]
  },
  {
   "cell_type": "markdown",
   "metadata": {},
   "source": [
    "**a)** Import the function \"get_disturbed_signal\" from the util package and plot the returned signal."
   ]
  },
  {
   "cell_type": "code",
   "execution_count": null,
   "metadata": {},
   "outputs": [],
   "source": [
    "from util import get_disturbed_signal\n",
    "\n",
    "####################\n",
    "# Your Code Here   #\n",
    "####################"
   ]
  },
  {
   "cell_type": "markdown",
   "metadata": {},
   "source": [
    "**b)** Remove outliers and plot the signal.\n",
    "\n",
    "**Note:** Think of NaN as well!"
   ]
  },
  {
   "cell_type": "code",
   "execution_count": null,
   "metadata": {},
   "outputs": [],
   "source": [
    "####################\n",
    "# Your Code Here   #\n",
    "####################"
   ]
  },
  {
   "cell_type": "markdown",
   "metadata": {},
   "source": [
    "**c)** Import the function \"nan_helper\" and replace the missing values by interpolation.\n",
    "Plot the signal.\n",
    "\n",
    "**Note:** https://stackoverflow.com/a/6520696"
   ]
  },
  {
   "cell_type": "code",
   "execution_count": null,
   "metadata": {},
   "outputs": [],
   "source": [
    "from util import nan_helper\n",
    "####################\n",
    "# Your Code Here   #\n",
    "####################"
   ]
  },
  {
   "cell_type": "markdown",
   "metadata": {},
   "source": [
    "### Task 2: PCA (Update: 26.04.2021)"
   ]
  },
  {
   "cell_type": "markdown",
   "metadata": {},
   "source": [
    "**a)** Extract the \"Activity Data\" from the zip file. Read the file contents of \"u1_s1_rechts.csv\" with \"pd.read_csv\"."
   ]
  },
  {
   "cell_type": "code",
   "execution_count": null,
   "metadata": {},
   "outputs": [],
   "source": [
    "####################\n",
    "# Your Code Here   #\n",
    "####################"
   ]
  },
  {
   "cell_type": "markdown",
   "metadata": {},
   "source": [
    "**b)** Analyse the following function."
   ]
  },
  {
   "cell_type": "code",
   "execution_count": null,
   "metadata": {},
   "outputs": [],
   "source": [
    "def preprocess_raw(Xraw):\n",
    "    \"\"\" Takes a pandas data frame with raw activity data,\n",
    "    replaces its labels with numerical values and returns an ndarray \n",
    "    without a timestamp.\n",
    "    \n",
    "    Parameters:\n",
    "    ===========\n",
    "    Xraw - raw data frame\n",
    "    \n",
    "    Returns:\n",
    "    ========\n",
    "    X,y : ndarray with shape (n,3) [X, Y, Z] and labels\n",
    "    \"\"\"\n",
    "    y = Xraw['Label'].astype('category').cat.codes.values\n",
    "    X = Xraw[['X','Y','Z']].values\n",
    "    return X,y"
   ]
  },
  {
   "cell_type": "code",
   "execution_count": null,
   "metadata": {},
   "outputs": [],
   "source": [
    "X,y =  preprocess_raw(Xraw)"
   ]
  },
  {
   "cell_type": "markdown",
   "metadata": {},
   "source": [
    "**c)** Apply the function given in **b)** to the read data set and plot it."
   ]
  },
  {
   "cell_type": "code",
   "execution_count": null,
   "metadata": {},
   "outputs": [],
   "source": [
    "####################\n",
    "# Your Code Here   #\n",
    "####################"
   ]
  },
  {
   "cell_type": "markdown",
   "metadata": {},
   "source": [
    "**d)** Read all sensor data and plot each dimension (there are 3 dimensions: x,y,z).\n",
    "\n",
    "**Note:** Ignore the labels, create one plot for each dimensions containing all sensors."
   ]
  },
  {
   "cell_type": "code",
   "execution_count": null,
   "metadata": {},
   "outputs": [],
   "source": [
    "Xsraw = [ pd.read_csv(\"./activity_u1/u1_s{}_rechts.csv\".format(i), header=1) for i in range(1,6)]\n",
    "Xs = [ preprocess_raw(Xr)[0] for Xr in Xsraw ]"
   ]
  },
  {
   "cell_type": "code",
   "execution_count": null,
   "metadata": {},
   "outputs": [],
   "source": [
    "####################\n",
    "# Your Code Here   #\n",
    "####################"
   ]
  },
  {
   "cell_type": "markdown",
   "metadata": {},
   "source": [
    "**e)** Calculate the first 2 principal components using [PCA](https://scikit-learn.org/stable/modules/generated/sklearn.decomposition.PCA.html) for each sensor. Plot the matching principal components in individial plots.\n",
    "What do you recognize?"
   ]
  },
  {
   "cell_type": "code",
   "execution_count": null,
   "metadata": {},
   "outputs": [],
   "source": [
    "from sklearn.decomposition import PCA\n",
    "####################\n",
    "# Your Code Here   #\n",
    "####################"
   ]
  },
  {
   "cell_type": "markdown",
   "metadata": {},
   "source": [
    "### Task 3: Normalization and Standardization"
   ]
  },
  {
   "cell_type": "markdown",
   "metadata": {},
   "source": [
    "**a)** Import the function \"get_random_signal\" from the \"util\" package.\n",
    "Plot the returned date set using the functions \"plot_equal\" and \"plot_range\" from the same package."
   ]
  },
  {
   "cell_type": "code",
   "execution_count": null,
   "metadata": {},
   "outputs": [],
   "source": [
    "from util import get_random_signal\n",
    "from util import plot_equal\n",
    "from util import plot_range\n",
    "\n",
    "Xnorm = get_random_signal()\n",
    "####################\n",
    "# Your Code Here   #\n",
    "####################"
   ]
  },
  {
   "cell_type": "markdown",
   "metadata": {},
   "source": [
    "**b)** Implement a function to normalise and a function to standardise the data.\n",
    "Plot the data in the range (-1,1) for x and y. Use the \"apply_plot\" function from the \"util\" package."
   ]
  },
  {
   "cell_type": "code",
   "execution_count": null,
   "metadata": {},
   "outputs": [],
   "source": [
    "from util import apply_plot\n",
    "def norm(X):\n",
    "    #################\n",
    "    # IMPLEMENT ME! #\n",
    "    #################\n",
    "    pass\n",
    "    ####################\n",
    "    # Your Code Here   #\n",
    "    ####################\n",
    "    \n",
    "def ztrans(X):\n",
    "    #################\n",
    "    # IMPLEMENT ME! #\n",
    "    #################\n",
    "    pass\n",
    "    ####################\n",
    "    # Your Code Here   #\n",
    "    ####################\n",
    "\n",
    "apply_plot(norm, Xnorm)\n",
    "apply_plot(ztrans, Xnorm)"
   ]
  },
  {
   "cell_type": "markdown",
   "metadata": {},
   "source": [
    "**c)** Remove all outliers and then normalise and standardize the data set.\n",
    "Plot the resulting signal."
   ]
  },
  {
   "cell_type": "code",
   "execution_count": null,
   "metadata": {},
   "outputs": [],
   "source": [
    "####################\n",
    "# Your Code Here   #\n",
    "####################"
   ]
  },
  {
   "cell_type": "markdown",
   "metadata": {},
   "source": [
    "### Task 4: Discretization Quantization\n",
    "**a)** Read the contents of \"u1_s1_rechts.csv\" and apply the following function."
   ]
  },
  {
   "cell_type": "code",
   "execution_count": null,
   "metadata": {},
   "outputs": [],
   "source": [
    "def preprocess_raw(Xraw):\n",
    "    \"\"\" Takes a pandas data frame with raw activity data,\n",
    "    replaces its labels with numerical values and returns an ndarray \n",
    "    without a timestamp.\n",
    "    \n",
    "    Parameters:\n",
    "    ===========\n",
    "    Xraw - raw data frame\n",
    "    \n",
    "    Returns:\n",
    "    ========\n",
    "    X,y : ndarray with shape (n,3) [X, Y, Z] and labels\n",
    "    \"\"\"\n",
    "    y = Xraw['Label'].astype('category').cat.codes.values\n",
    "    X = Xraw[['X','Y','Z']].values\n",
    "    return X,y"
   ]
  },
  {
   "cell_type": "code",
   "execution_count": null,
   "metadata": {},
   "outputs": [],
   "source": [
    "####################\n",
    "# Your Code Here   #\n",
    "####################"
   ]
  },
  {
   "cell_type": "markdown",
   "metadata": {},
   "source": [
    "**b)** Reduce the size of the data set by 100 using the mean. \n",
    "\n",
    "**Note:** Consider the labels! Calculating the mean won't be helpful!"
   ]
  },
  {
   "cell_type": "code",
   "execution_count": null,
   "metadata": {},
   "outputs": [],
   "source": [
    "####################\n",
    "# Your Code Here   #\n",
    "####################"
   ]
  },
  {
   "cell_type": "markdown",
   "metadata": {},
   "source": [
    "**c)** Plot the original and the sampled signal."
   ]
  },
  {
   "cell_type": "code",
   "execution_count": null,
   "metadata": {},
   "outputs": [],
   "source": [
    "####################\n",
    "# Your Code Here   #\n",
    "####################"
   ]
  },
  {
   "cell_type": "markdown",
   "metadata": {},
   "source": [
    "**d)** Quantise the signal with 32 levels. Implement the required function and plot the resulting signal.\n",
    "\n",
    "Refer: \n",
    "[np.histogram](https://docs.scipy.org/doc/numpy/reference/generated/numpy.histogram.html)\n",
    "[np.digitize](https://numpy.org/doc/stable/reference/generated/numpy.digitize.html)"
   ]
  },
  {
   "cell_type": "code",
   "execution_count": null,
   "metadata": {},
   "outputs": [],
   "source": [
    "def quantize(X, steps=32):\n",
    "####################\n",
    "# Your Code Here   #\n",
    "####################\n",
    "    return quant"
   ]
  },
  {
   "cell_type": "code",
   "execution_count": null,
   "metadata": {},
   "outputs": [],
   "source": [
    "# Plot the quantized signal\n",
    "quant = quantize(disc[:,0])\n",
    "####################\n",
    "# Your Code Here   #\n",
    "####################"
   ]
  },
  {
   "cell_type": "markdown",
   "metadata": {},
   "source": [
    "**e)** Now, scatter the quantized signal again and use a color coding scheme for the labels."
   ]
  },
  {
   "cell_type": "code",
   "execution_count": null,
   "metadata": {},
   "outputs": [],
   "source": [
    "####################\n",
    "# Your Code Here   #\n",
    "####################"
   ]
  },
  {
   "cell_type": "markdown",
   "metadata": {},
   "source": [
    "**f)** Save your quantized signal as \"xquant.csv\". "
   ]
  },
  {
   "cell_type": "code",
   "execution_count": null,
   "metadata": {},
   "outputs": [],
   "source": [
    "####################\n",
    "# Your Code Here   #\n",
    "####################"
   ]
  },
  {
   "cell_type": "markdown",
   "metadata": {},
   "source": [
    "### Task 5: Fourier Transform"
   ]
  },
  {
   "cell_type": "code",
   "execution_count": null,
   "metadata": {},
   "outputs": [],
   "source": [
    "import matplotlib.pyplot as plt\n",
    "from util import get_signal\n",
    "from scipy.stats import norm"
   ]
  },
  {
   "cell_type": "markdown",
   "metadata": {},
   "source": [
    "**a)** Use the function **get_signal** to import the data with a sampling frequency of **100 Hz**.\n",
    "\n",
    "It returns two variables x and y"
   ]
  },
  {
   "cell_type": "code",
   "execution_count": null,
   "metadata": {},
   "outputs": [],
   "source": [
    "t, y = get_signal()"
   ]
  },
  {
   "cell_type": "markdown",
   "metadata": {},
   "source": [
    "**b)** Use the [Fourier Transform](https://numpy.org/devdocs/reference/routines.fft.html) to provide the frequency domain representation of the original signal.\n",
    "\n",
    "- Consider that the input **y** is a real-valued signal. Use the one-dimensional fourier transform for real input according to this assumption\n",
    "- Since the input of the fourier-tranform is a time-domain signal, use numpy.abs() to display the amplitude spectrum\n",
    "- Consider Normalization of the spectrum using the scaling factor $1/N$, $N$: Number of Samples\n",
    "- Plot the frequency domain representation"
   ]
  },
  {
   "cell_type": "code",
   "execution_count": null,
   "metadata": {},
   "outputs": [],
   "source": [
    "samplingFrequency = 100\n",
    "\n",
    "####################\n",
    "# Your Code Here   #\n",
    "####################"
   ]
  },
  {
   "cell_type": "code",
   "execution_count": null,
   "metadata": {},
   "outputs": [],
   "source": [
    "# Frequency domain representation\n",
    "plt.figure()\n",
    "plt.title('Fourier transform depicting the frequency components')\n",
    "plt.plot(frequencies, np.abs(fourierTransform))\n",
    "\n",
    "plt.xlabel('Frequency')\n",
    "plt.ylabel('Amplitude')\n",
    "\n",
    "plt.show()\n",
    "### ENDSOLUTION ###"
   ]
  },
  {
   "cell_type": "markdown",
   "metadata": {},
   "source": [
    "**b)** Apply a low pass filter to the amplitude spectrum to reconstruct the signal and remove high frequency noise terms"
   ]
  },
  {
   "cell_type": "code",
   "execution_count": null,
   "metadata": {},
   "outputs": [],
   "source": [
    "frequency_threshold = 10\n",
    "\n",
    "####################\n",
    "# Your Code Here   #\n",
    "####################"
   ]
  },
  {
   "cell_type": "markdown",
   "metadata": {},
   "source": [
    "**c)** Apply the inverse Fourier Transform to reconstruct the Signal from the filtered amplitude spectrum"
   ]
  },
  {
   "cell_type": "code",
   "execution_count": null,
   "metadata": {},
   "outputs": [],
   "source": [
    "####################\n",
    "# Your Code Here   #\n",
    "####################"
   ]
  },
  {
   "cell_type": "code",
   "execution_count": null,
   "metadata": {},
   "outputs": [],
   "source": []
  }
 ],
 "metadata": {
  "kernelspec": {
   "display_name": "Python 3",
   "language": "python",
   "name": "python3"
  },
  "language_info": {
   "codemirror_mode": {
    "name": "ipython",
    "version": 3
   },
   "file_extension": ".py",
   "mimetype": "text/x-python",
   "name": "python",
   "nbconvert_exporter": "python",
   "pygments_lexer": "ipython3",
   "version": "3.9.18"
  }
 },
 "nbformat": 4,
 "nbformat_minor": 4
}
