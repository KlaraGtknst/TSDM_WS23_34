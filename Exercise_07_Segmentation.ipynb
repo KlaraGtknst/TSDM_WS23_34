{
 "cells": [
  {
   "cell_type": "markdown",
   "metadata": {},
   "source": [
    "# Temporal and Spatial DataMining\n",
    "\n",
    "\n",
    "## Exercise_07_Segmentation"
   ]
  },
  {
   "cell_type": "markdown",
   "metadata": {},
   "source": [
    "**Task 1**"
   ]
  },
  {
   "cell_type": "markdown",
   "metadata": {},
   "source": [
    "**a)**  Why is a segmentation procedure useful in procesin time series data, and what is the difference between **online** and **offline** segementation? "
   ]
  },
  {
   "cell_type": "markdown",
   "metadata": {},
   "source": [
    "\n",
    " **---  Your Text Here ----** \n"
   ]
  },
  {
   "cell_type": "markdown",
   "metadata": {
    "tags": []
   },
   "source": [
    "**b)** What are the differences between top-down segmentation, bottom-up segmentation and sliding-window segmentation? When does it make sense to use a particular process?"
   ]
  },
  {
   "cell_type": "markdown",
   "metadata": {},
   "source": [
    "\n",
    " **---  Your Text Here ----** \n"
   ]
  },
  {
   "cell_type": "markdown",
   "metadata": {},
   "source": [
    "**Task 2**"
   ]
  },
  {
   "cell_type": "code",
   "execution_count": 1,
   "metadata": {},
   "outputs": [
    {
     "ename": "ModuleNotFoundError",
     "evalue": "No module named 'matplotlib'",
     "output_type": "error",
     "traceback": [
      "\u001b[1;31m---------------------------------------------------------------------------\u001b[0m",
      "\u001b[1;31mModuleNotFoundError\u001b[0m                       Traceback (most recent call last)",
      "\u001b[1;32mc:\\Users\\klara\\Documents\\Uni\\Master\\WS23_24\\TSDM_WS23_34\\Exercise_07_Segmentation.ipynb Cell 8\u001b[0m line \u001b[0;36m2\n\u001b[0;32m      <a href='vscode-notebook-cell:/c%3A/Users/klara/Documents/Uni/Master/WS23_24/TSDM_WS23_34/Exercise_07_Segmentation.ipynb#X10sZmlsZQ%3D%3D?line=0'>1</a>\u001b[0m \u001b[39mimport\u001b[39;00m \u001b[39mnumpy\u001b[39;00m \u001b[39mas\u001b[39;00m \u001b[39mnp\u001b[39;00m\n\u001b[1;32m----> <a href='vscode-notebook-cell:/c%3A/Users/klara/Documents/Uni/Master/WS23_24/TSDM_WS23_34/Exercise_07_Segmentation.ipynb#X10sZmlsZQ%3D%3D?line=1'>2</a>\u001b[0m \u001b[39mimport\u001b[39;00m \u001b[39mmatplotlib\u001b[39;00m\u001b[39m.\u001b[39;00m\u001b[39mpyplot\u001b[39;00m \u001b[39mas\u001b[39;00m \u001b[39mplt\u001b[39;00m\n\u001b[0;32m      <a href='vscode-notebook-cell:/c%3A/Users/klara/Documents/Uni/Master/WS23_24/TSDM_WS23_34/Exercise_07_Segmentation.ipynb#X10sZmlsZQ%3D%3D?line=2'>3</a>\u001b[0m \u001b[39mfrom\u001b[39;00m \u001b[39mmatplotlib\u001b[39;00m\u001b[39m.\u001b[39;00m\u001b[39mlines\u001b[39;00m \u001b[39mimport\u001b[39;00m Line2D\n\u001b[0;32m      <a href='vscode-notebook-cell:/c%3A/Users/klara/Documents/Uni/Master/WS23_24/TSDM_WS23_34/Exercise_07_Segmentation.ipynb#X10sZmlsZQ%3D%3D?line=3'>4</a>\u001b[0m plt\u001b[39m.\u001b[39mstyle\u001b[39m.\u001b[39muse(\u001b[39m'\u001b[39m\u001b[39mggplot\u001b[39m\u001b[39m'\u001b[39m)\n",
      "\u001b[1;31mModuleNotFoundError\u001b[0m: No module named 'matplotlib'"
     ]
    }
   ],
   "source": [
    "import numpy as np\n",
    "import matplotlib.pyplot as plt\n",
    "from matplotlib.lines import Line2D\n",
    "plt.style.use('ggplot')\n",
    "\n",
    "from ipywidgets import interact\n",
    "import ipywidgets as widgets"
   ]
  },
  {
   "cell_type": "code",
   "execution_count": null,
   "metadata": {},
   "outputs": [
    {
     "ename": "",
     "evalue": "",
     "output_type": "error",
     "traceback": [
      "\u001b[1;31mRunning cells with 'TSDM_env' requires the ipykernel package.\n",
      "\u001b[1;31mRun the following command to install 'ipykernel' into the Python environment. \n",
      "\u001b[1;31mCommand: 'conda install -n TSDM_env ipykernel --update-deps --force-reinstall'"
     ]
    }
   ],
   "source": [
    "with open(\"data/ecg.txt\") as f:\n",
    "    file_lines = f.readlines()\n",
    "\n",
    "y = np.array([float(x.split(\"\\t\")[2].strip()) for x in file_lines[100:320]])\n",
    "x = np.arange(1, len(y) + 1)"
   ]
  },
  {
   "cell_type": "code",
   "execution_count": null,
   "metadata": {},
   "outputs": [
    {
     "ename": "",
     "evalue": "",
     "output_type": "error",
     "traceback": [
      "\u001b[1;31mRunning cells with 'TSDM_env' requires the ipykernel package.\n",
      "\u001b[1;31mRun the following command to install 'ipykernel' into the Python environment. \n",
      "\u001b[1;31mCommand: 'conda install -n TSDM_env ipykernel --update-deps --force-reinstall'"
     ]
    }
   ],
   "source": [
    "def draw_plot(x, y, plot_title):\n",
    "    plt.figure(figsize=(12,5))\n",
    "    plt.plot(x, y, alpha=0.8, color='blue')\n",
    "    plt.title(plot_title)\n",
    "    plt.xlabel(\"Samples\")\n",
    "    plt.ylabel(\"Signal\")"
   ]
  },
  {
   "cell_type": "code",
   "execution_count": null,
   "metadata": {},
   "outputs": [
    {
     "ename": "",
     "evalue": "",
     "output_type": "error",
     "traceback": [
      "\u001b[1;31mRunning cells with 'TSDM_env' requires the ipykernel package.\n",
      "\u001b[1;31mRun the following command to install 'ipykernel' into the Python environment. \n",
      "\u001b[1;31mCommand: 'conda install -n TSDM_env ipykernel --update-deps --force-reinstall'"
     ]
    }
   ],
   "source": [
    "draw_plot(x, y,\"ECG - Data\")"
   ]
  },
  {
   "cell_type": "markdown",
   "metadata": {},
   "source": [
    "**a)** Bottom-up, top-down and sliding-window segmentation\n",
    "\n",
    "- Implement a function with the name `regression` to fit a line into a given segment of a sequence using linear regression\n",
    "\n",
    "- Implement a cost function with the name `sumsquared_error` to calculate the squared sum of errors for a fitted line into a segment of a sequence\n",
    "\n",
    "> **Hint:** [`numpy.linalg.lstsq`](https://numpy.org/doc/stable/reference/generated/numpy.linalg.lstsq.html)"
   ]
  },
  {
   "cell_type": "code",
   "execution_count": null,
   "metadata": {},
   "outputs": [
    {
     "ename": "",
     "evalue": "",
     "output_type": "error",
     "traceback": [
      "\u001b[1;31mRunning cells with 'TSDM_env' requires the ipykernel package.\n",
      "\u001b[1;31mRun the following command to install 'ipykernel' into the Python environment. \n",
      "\u001b[1;31mCommand: 'conda install -n TSDM_env ipykernel --update-deps --force-reinstall'"
     ]
    }
   ],
   "source": [
    "from numpy.linalg import lstsq"
   ]
  },
  {
   "cell_type": "code",
   "execution_count": null,
   "metadata": {},
   "outputs": [
    {
     "ename": "",
     "evalue": "",
     "output_type": "error",
     "traceback": [
      "\u001b[1;31mRunning cells with 'TSDM_env' requires the ipykernel package.\n",
      "\u001b[1;31mRun the following command to install 'ipykernel' into the Python environment. \n",
      "\u001b[1;31mCommand: 'conda install -n TSDM_env ipykernel --update-deps --force-reinstall'"
     ]
    }
   ],
   "source": [
    "####################\n",
    "# Your Code Here   #\n",
    "####################"
   ]
  },
  {
   "cell_type": "markdown",
   "metadata": {},
   "source": [
    "**b)** Create a function, which return a list of segments using the bottom-up technique\n",
    "\n",
    ">**Hint:** The following functions should return a list of segments. Each Segment contains four values of the fitted line:\n",
    "\n",
    "    [(x0, y0, x1, y1), ... , (x0, y0, x1, y1)]"
   ]
  },
  {
   "cell_type": "code",
   "execution_count": null,
   "metadata": {},
   "outputs": [
    {
     "ename": "",
     "evalue": "",
     "output_type": "error",
     "traceback": [
      "\u001b[1;31mRunning cells with 'TSDM_env' requires the ipykernel package.\n",
      "\u001b[1;31mRun the following command to install 'ipykernel' into the Python environment. \n",
      "\u001b[1;31mCommand: 'conda install -n TSDM_env ipykernel --update-deps --force-reinstall'"
     ]
    }
   ],
   "source": [
    "####################\n",
    "# Your Code Here   #\n",
    "####################"
   ]
  },
  {
   "cell_type": "markdown",
   "metadata": {},
   "source": [
    "**c)** Create a function, which return a list of segments using the top-down technique"
   ]
  },
  {
   "cell_type": "code",
   "execution_count": null,
   "metadata": {},
   "outputs": [
    {
     "ename": "",
     "evalue": "",
     "output_type": "error",
     "traceback": [
      "\u001b[1;31mRunning cells with 'TSDM_env' requires the ipykernel package.\n",
      "\u001b[1;31mRun the following command to install 'ipykernel' into the Python environment. \n",
      "\u001b[1;31mCommand: 'conda install -n TSDM_env ipykernel --update-deps --force-reinstall'"
     ]
    }
   ],
   "source": [
    "####################\n",
    "# Your Code Here   #\n",
    "####################"
   ]
  },
  {
   "cell_type": "markdown",
   "metadata": {},
   "source": [
    "**d)** Create a function, which return a list of segments using the sliding-window technique"
   ]
  },
  {
   "cell_type": "code",
   "execution_count": null,
   "metadata": {},
   "outputs": [
    {
     "ename": "",
     "evalue": "",
     "output_type": "error",
     "traceback": [
      "\u001b[1;31mRunning cells with 'TSDM_env' requires the ipykernel package.\n",
      "\u001b[1;31mRun the following command to install 'ipykernel' into the Python environment. \n",
      "\u001b[1;31mCommand: 'conda install -n TSDM_env ipykernel --update-deps --force-reinstall'"
     ]
    }
   ],
   "source": [
    "####################\n",
    "# Your Code Here   #\n",
    "####################"
   ]
  },
  {
   "cell_type": "markdown",
   "metadata": {},
   "source": [
    "**e)** Use the following functions to plot the resulting segmentation procedure considering different error thresholds.\n",
    "\n",
    "- Explain the results"
   ]
  },
  {
   "cell_type": "code",
   "execution_count": null,
   "metadata": {},
   "outputs": [
    {
     "ename": "",
     "evalue": "",
     "output_type": "error",
     "traceback": [
      "\u001b[1;31mRunning cells with 'TSDM_env' requires the ipykernel package.\n",
      "\u001b[1;31mRun the following command to install 'ipykernel' into the Python environment. \n",
      "\u001b[1;31mCommand: 'conda install -n TSDM_env ipykernel --update-deps --force-reinstall'"
     ]
    }
   ],
   "source": [
    "from ipywidgets import interact\n",
    "import ipywidgets as widgets"
   ]
  },
  {
   "cell_type": "code",
   "execution_count": null,
   "metadata": {},
   "outputs": [
    {
     "ename": "",
     "evalue": "",
     "output_type": "error",
     "traceback": [
      "\u001b[1;31mRunning cells with 'TSDM_env' requires the ipykernel package.\n",
      "\u001b[1;31mRun the following command to install 'ipykernel' into the Python environment. \n",
      "\u001b[1;31mCommand: 'conda install -n TSDM_env ipykernel --update-deps --force-reinstall'"
     ]
    }
   ],
   "source": [
    "def draw_segments(segments):\n",
    "    ax = plt.gca()\n",
    "    for segment in segments:\n",
    "        line = Line2D((segment[0],segment[2]),(segment[1],segment[3]))\n",
    "        ax.add_line(line)"
   ]
  },
  {
   "cell_type": "code",
   "execution_count": null,
   "metadata": {},
   "outputs": [
    {
     "ename": "",
     "evalue": "",
     "output_type": "error",
     "traceback": [
      "\u001b[1;31mRunning cells with 'TSDM_env' requires the ipykernel package.\n",
      "\u001b[1;31mRun the following command to install 'ipykernel' into the Python environment. \n",
      "\u001b[1;31mCommand: 'conda install -n TSDM_env ipykernel --update-deps --force-reinstall'"
     ]
    }
   ],
   "source": [
    "data = y\n",
    "\n",
    "def bottom_up_with_reg(max_error):\n",
    "    #bottom-up with regression\n",
    "    plt.figure(figsize=(20,8))\n",
    "    max_error = max_error/100\n",
    "    print('maximal error: ', max_error)\n",
    "    \n",
    "    segments = bottomupsegment(data, regression, sumsquared_error, max_error)\n",
    "    draw_plot(x, y,\"Bottom-up with regression\")\n",
    "    draw_segments(segments)\n",
    "    \n",
    "def top_down_with_reg(max_error):\n",
    "\n",
    "    #top-down with regression\n",
    "    plt.figure(figsize=(20,8))\n",
    "    max_error = max_error/100\n",
    "    \n",
    "    print('maximal error: ', max_error)\n",
    "    segments = topdownsegment(data, regression, sumsquared_error, max_error)\n",
    "    draw_plot(x, y,\"Top-down with regression\")\n",
    "    draw_segments(segments)\n",
    "    \n",
    "def sliding_window_with_reg(max_error):\n",
    "    #sliding window with regression\n",
    "    plt.figure(figsize=(20,8))\n",
    "    max_error = max_error/100\n",
    "    print('maximal error: ', max_error)\n",
    "    \n",
    "    segments = slidingwindowsegment(data, regression, sumsquared_error, max_error)\n",
    "    draw_plot(x, y,\"Sliding window with regression\")\n",
    "    draw_segments(segments)\n",
    "    plt.show()"
   ]
  },
  {
   "cell_type": "code",
   "execution_count": null,
   "metadata": {},
   "outputs": [
    {
     "ename": "",
     "evalue": "",
     "output_type": "error",
     "traceback": [
      "\u001b[1;31mRunning cells with 'TSDM_env' requires the ipykernel package.\n",
      "\u001b[1;31mRun the following command to install 'ipykernel' into the Python environment. \n",
      "\u001b[1;31mCommand: 'conda install -n TSDM_env ipykernel --update-deps --force-reinstall'"
     ]
    }
   ],
   "source": [
    "interact(bottom_up_with_reg, max_error=widgets.IntSlider(min=1, max=100, size=101, step=1, value=0.001))"
   ]
  },
  {
   "cell_type": "code",
   "execution_count": null,
   "metadata": {},
   "outputs": [
    {
     "ename": "",
     "evalue": "",
     "output_type": "error",
     "traceback": [
      "\u001b[1;31mRunning cells with 'TSDM_env' requires the ipykernel package.\n",
      "\u001b[1;31mRun the following command to install 'ipykernel' into the Python environment. \n",
      "\u001b[1;31mCommand: 'conda install -n TSDM_env ipykernel --update-deps --force-reinstall'"
     ]
    }
   ],
   "source": [
    "interact(top_down_with_reg, max_error=widgets.IntSlider(min=1, max=100, size=101, step=1, value=0.001))"
   ]
  },
  {
   "cell_type": "code",
   "execution_count": null,
   "metadata": {},
   "outputs": [
    {
     "ename": "",
     "evalue": "",
     "output_type": "error",
     "traceback": [
      "\u001b[1;31mRunning cells with 'TSDM_env' requires the ipykernel package.\n",
      "\u001b[1;31mRun the following command to install 'ipykernel' into the Python environment. \n",
      "\u001b[1;31mCommand: 'conda install -n TSDM_env ipykernel --update-deps --force-reinstall'"
     ]
    }
   ],
   "source": [
    "interact(sliding_window_with_reg, max_error=widgets.IntSlider(min=1, max=100, size=101, step=1, value=0.001))"
   ]
  },
  {
   "cell_type": "markdown",
   "metadata": {},
   "source": [
    "**f)** Further Segmentation techniques"
   ]
  },
  {
   "cell_type": "markdown",
   "metadata": {},
   "source": [
    "Consider the shape of the following signal. Which segmentation procedure is suitable in this case?"
   ]
  },
  {
   "cell_type": "code",
   "execution_count": null,
   "metadata": {},
   "outputs": [
    {
     "ename": "",
     "evalue": "",
     "output_type": "error",
     "traceback": [
      "\u001b[1;31mRunning cells with 'TSDM_env' requires the ipykernel package.\n",
      "\u001b[1;31mRun the following command to install 'ipykernel' into the Python environment. \n",
      "\u001b[1;31mCommand: 'conda install -n TSDM_env ipykernel --update-deps --force-reinstall'"
     ]
    }
   ],
   "source": [
    "Fs = 10000\n",
    "fc = 100 \n",
    "fm = 20\n",
    "b = 10\n",
    "\n",
    "t = np.arange(0, 0.1, 1/Fs)\n",
    "fm = np.cos(2*np.pi*fc*t + b*np.sin(2*np.pi*fm*t))\n",
    "\n",
    "plt.figure(figsize=(15,5))\n",
    "plt.plot(t, fm)\n",
    "plt.show()"
   ]
  },
  {
   "cell_type": "markdown",
   "metadata": {},
   "source": [
    "**Task 3: Optimal Segmentation and SWAB** (Bonus)"
   ]
  },
  {
   "cell_type": "markdown",
   "metadata": {},
   "source": [
    "**a)** Practice the example for the optimal segmentation from the lecture again on a paper, preferably at home."
   ]
  },
  {
   "cell_type": "markdown",
   "metadata": {},
   "source": [
    "**b)** Implement the optimal segmentation in Python."
   ]
  },
  {
   "cell_type": "code",
   "execution_count": null,
   "metadata": {},
   "outputs": [
    {
     "ename": "",
     "evalue": "",
     "output_type": "error",
     "traceback": [
      "\u001b[1;31mRunning cells with 'TSDM_env' requires the ipykernel package.\n",
      "\u001b[1;31mRun the following command to install 'ipykernel' into the Python environment. \n",
      "\u001b[1;31mCommand: 'conda install -n TSDM_env ipykernel --update-deps --force-reinstall'"
     ]
    }
   ],
   "source": [
    "x = np.array([1., 2., 3., 4., 5., 6., 7.])\n",
    "y = np.array([2., 5., 4., 6., 3., 1., 4.])"
   ]
  },
  {
   "cell_type": "code",
   "execution_count": null,
   "metadata": {},
   "outputs": [
    {
     "ename": "",
     "evalue": "",
     "output_type": "error",
     "traceback": [
      "\u001b[1;31mRunning cells with 'TSDM_env' requires the ipykernel package.\n",
      "\u001b[1;31mRun the following command to install 'ipykernel' into the Python environment. \n",
      "\u001b[1;31mCommand: 'conda install -n TSDM_env ipykernel --update-deps --force-reinstall'"
     ]
    }
   ],
   "source": [
    "plt.figure()\n",
    "plt.plot(x,y, '-o')\n",
    "plt.show()"
   ]
  },
  {
   "cell_type": "code",
   "execution_count": null,
   "metadata": {},
   "outputs": [
    {
     "ename": "",
     "evalue": "",
     "output_type": "error",
     "traceback": [
      "\u001b[1;31mRunning cells with 'TSDM_env' requires the ipykernel package.\n",
      "\u001b[1;31mRun the following command to install 'ipykernel' into the Python environment. \n",
      "\u001b[1;31mCommand: 'conda install -n TSDM_env ipykernel --update-deps --force-reinstall'"
     ]
    }
   ],
   "source": [
    "####################\n",
    "# Your Code Here   #\n",
    "####################"
   ]
  },
  {
   "cell_type": "markdown",
   "metadata": {},
   "source": [
    "**c)** Describe the SWAB algorithm."
   ]
  }
 ],
 "metadata": {
  "kernelspec": {
   "display_name": "Python 3",
   "language": "python",
   "name": "python3"
  },
  "language_info": {
   "codemirror_mode": {
    "name": "ipython",
    "version": 3
   },
   "file_extension": ".py",
   "mimetype": "text/x-python",
   "name": "python",
   "nbconvert_exporter": "python",
   "pygments_lexer": "ipython3",
   "version": "3.9.18"
  }
 },
 "nbformat": 4,
 "nbformat_minor": 4
}
