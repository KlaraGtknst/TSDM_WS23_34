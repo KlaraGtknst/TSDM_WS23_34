{
 "cells": [
  {
   "cell_type": "code",
   "execution_count": 1,
   "metadata": {},
   "outputs": [],
   "source": [
    "import pandas as pd\n",
    "import torch\n",
    "import torch.nn as nn\n",
    "import torch.nn.functional as F\n",
    "from torch.utils.data import DataLoader, TensorDataset\n",
    "import torch.optim as optim\n",
    "from sklearn.preprocessing import MinMaxScaler\n",
    "from sklearn.metrics import mean_squared_error\n",
    "from copy import deepcopy\n",
    "import sys\n",
    "%matplotlib inline\n",
    "from matplotlib import pyplot as plt"
   ]
  },
  {
   "cell_type": "markdown",
   "metadata": {},
   "source": [
    "### Task 1: Daily Temperature Forecasts\n",
    "In this task you need to build sequence-to-sequence model for temperature forecast using RNN and LSTM."
   ]
  },
  {
   "cell_type": "markdown",
   "metadata": {},
   "source": [
    "**a)** Import daily temperature dataset **daily-minimum-temperatures.csv** in the data folder. "
   ]
  },
  {
   "cell_type": "code",
   "execution_count": 2,
   "metadata": {},
   "outputs": [
    {
     "data": {
      "text/html": [
       "<div>\n",
       "<style scoped>\n",
       "    .dataframe tbody tr th:only-of-type {\n",
       "        vertical-align: middle;\n",
       "    }\n",
       "\n",
       "    .dataframe tbody tr th {\n",
       "        vertical-align: top;\n",
       "    }\n",
       "\n",
       "    .dataframe thead th {\n",
       "        text-align: right;\n",
       "    }\n",
       "</style>\n",
       "<table border=\"1\" class=\"dataframe\">\n",
       "  <thead>\n",
       "    <tr style=\"text-align: right;\">\n",
       "      <th></th>\n",
       "      <th>Temp</th>\n",
       "    </tr>\n",
       "    <tr>\n",
       "      <th>Date</th>\n",
       "      <th></th>\n",
       "    </tr>\n",
       "  </thead>\n",
       "  <tbody>\n",
       "    <tr>\n",
       "      <th>1981-01-01</th>\n",
       "      <td>20.7</td>\n",
       "    </tr>\n",
       "    <tr>\n",
       "      <th>1981-01-02</th>\n",
       "      <td>17.9</td>\n",
       "    </tr>\n",
       "    <tr>\n",
       "      <th>1981-01-03</th>\n",
       "      <td>18.8</td>\n",
       "    </tr>\n",
       "    <tr>\n",
       "      <th>1981-01-04</th>\n",
       "      <td>14.6</td>\n",
       "    </tr>\n",
       "    <tr>\n",
       "      <th>1981-01-05</th>\n",
       "      <td>15.8</td>\n",
       "    </tr>\n",
       "    <tr>\n",
       "      <th>1981-01-06</th>\n",
       "      <td>15.8</td>\n",
       "    </tr>\n",
       "    <tr>\n",
       "      <th>1981-01-07</th>\n",
       "      <td>15.8</td>\n",
       "    </tr>\n",
       "    <tr>\n",
       "      <th>1981-01-08</th>\n",
       "      <td>17.4</td>\n",
       "    </tr>\n",
       "    <tr>\n",
       "      <th>1981-01-09</th>\n",
       "      <td>21.8</td>\n",
       "    </tr>\n",
       "    <tr>\n",
       "      <th>1981-01-10</th>\n",
       "      <td>20.0</td>\n",
       "    </tr>\n",
       "  </tbody>\n",
       "</table>\n",
       "</div>"
      ],
      "text/plain": [
       "            Temp\n",
       "Date            \n",
       "1981-01-01  20.7\n",
       "1981-01-02  17.9\n",
       "1981-01-03  18.8\n",
       "1981-01-04  14.6\n",
       "1981-01-05  15.8\n",
       "1981-01-06  15.8\n",
       "1981-01-07  15.8\n",
       "1981-01-08  17.4\n",
       "1981-01-09  21.8\n",
       "1981-01-10  20.0"
      ]
     },
     "execution_count": 2,
     "metadata": {},
     "output_type": "execute_result"
    }
   ],
   "source": [
    "temp_data = pd.read_csv('./data/daily-minimum-temperatures.csv',header=0, index_col=0)\n",
    "temp_data.head(10)"
   ]
  },
  {
   "cell_type": "markdown",
   "metadata": {},
   "source": [
    "**b)** Scale the training and test data set using MinMaxScaler"
   ]
  },
  {
   "cell_type": "code",
   "execution_count": 3,
   "metadata": {},
   "outputs": [],
   "source": [
    "test_length = 50\n",
    "train, test = temp_data[:-test_length], temp_data[-test_length:]\n",
    "\n",
    "scaler = MinMaxScaler()\n",
    "# Scaling the train and test data using minmaxscaler\n",
    "train_scaled = scaler.fit_transform(train)\n",
    "test_scaled = scaler.transform(test)"
   ]
  },
  {
   "cell_type": "markdown",
   "metadata": {},
   "source": [
    "**c)** Build sequence-to-sequence data. For example, the length of the input and target sequence is 4 time steps, i.e.:\n",
    "\n",
    "        The raw data: [1,2,3,4,5,6,7,8,9,10,...]\n",
    "\n",
    "                              Prediction\n",
    "        Input Sequence      -------------->      Target Sequence\n",
    "          [1,2,3,4]                                [5,6,7,8]\n",
    "          [2,3,4,5]                                [6,7,8,9]"
   ]
  },
  {
   "cell_type": "code",
   "execution_count": 4,
   "metadata": {},
   "outputs": [],
   "source": [
    "import numpy as np\n",
    "\n",
    "\n",
    "def seq_2_seq(data, length_x, length_y):\n",
    "    '''\n",
    "    convert the input data to seq-to-seq samples for training rnn model.\n",
    "    \n",
    "    Inputs:\n",
    "    data: pd.DataFrame, the input temperature data set.\n",
    "    length_x: The length of the input sequence\n",
    "    length_y: The length of the output sequence\n",
    "    \n",
    "    Outputs:\n",
    "    X: Input sequence, the size is: [number of samples, length_x, features]\n",
    "    y: Output sequence, the size is: [number of samples, length_y, features]\n",
    "    '''\n",
    "    X = []\n",
    "    y = []\n",
    "    for i in range(len(data) - length_x - length_y):\n",
    "        X.append(data[i:i+length_x])\n",
    "        y.append(data[i+length_x:i+length_x+length_y])\n",
    "    return np.array(X), np.array(y)"
   ]
  },
  {
   "cell_type": "code",
   "execution_count": 5,
   "metadata": {},
   "outputs": [],
   "source": [
    "# Input sequence size:  (num_sample, 7, 1)\n",
    "# Target sequence size: (num_sample, 1, 1)\n",
    "train_X, train_y = seq_2_seq(train_scaled, 7, 1)\n",
    "test_X, test_y = seq_2_seq(test_scaled, 7, 1)"
   ]
  },
  {
   "cell_type": "code",
   "execution_count": 6,
   "metadata": {
    "scrolled": true
   },
   "outputs": [
    {
     "name": "stdout",
     "output_type": "stream",
     "text": [
      "False\n"
     ]
    },
    {
     "data": {
      "text/plain": [
       "(3592, 7, 1)"
      ]
     },
     "execution_count": 6,
     "metadata": {},
     "output_type": "execute_result"
    }
   ],
   "source": [
    "# Note that the NaN in the last rows should be dropped if you use pd.DataFrame.shift().\n",
    "print(np.any(np.isnan(train_X)))\n",
    "train_X.shape"
   ]
  },
  {
   "cell_type": "code",
   "execution_count": 7,
   "metadata": {
    "scrolled": true
   },
   "outputs": [
    {
     "data": {
      "text/plain": [
       "(3592, 1, 1)"
      ]
     },
     "execution_count": 7,
     "metadata": {},
     "output_type": "execute_result"
    }
   ],
   "source": [
    "# Note that the NaN in the last rows should be dropped if you use pd.DataFrame.shift().\n",
    "train_y.shape"
   ]
  },
  {
   "cell_type": "code",
   "execution_count": 8,
   "metadata": {},
   "outputs": [
    {
     "data": {
      "text/plain": [
       "(42, 7, 1)"
      ]
     },
     "execution_count": 8,
     "metadata": {},
     "output_type": "execute_result"
    }
   ],
   "source": [
    "# Note that the NaN in the last rows should be dropped if you use pd.DataFrame.shift().\n",
    "test_X.shape"
   ]
  },
  {
   "cell_type": "code",
   "execution_count": 9,
   "metadata": {
    "scrolled": true
   },
   "outputs": [
    {
     "data": {
      "text/plain": [
       "(42, 1, 1)"
      ]
     },
     "execution_count": 9,
     "metadata": {},
     "output_type": "execute_result"
    }
   ],
   "source": [
    "# Note that the NaN in the last rows should be dropped if you use pd.DataFrame.shift().\n",
    "test_y.shape"
   ]
  },
  {
   "cell_type": "code",
   "execution_count": 10,
   "metadata": {},
   "outputs": [],
   "source": [
    "# Convert the sequences to tensor (dtype=torch.float32) with a size (num_sample, sequence_length, feature_size). \n",
    "train_X = torch.tensor(train_X, dtype=torch.float32)\n",
    "train_y = torch.tensor(train_y, dtype=torch.float32)\n",
    "test_X = torch.tensor(test_X, dtype=torch.float32)\n",
    "test_y = torch.tensor(test_y, dtype=torch.float32)"
   ]
  },
  {
   "cell_type": "markdown",
   "metadata": {},
   "source": [
    "**d)** Complete the class of plain Vanilla Recurrent Neural Networks.\n",
    "\n",
    "The model contains one [RNN Layer](https://pytorch.org/docs/stable/generated/torch.nn.RNN.html), which is followed by a Linear layer.\n",
    "\n",
    "**Hints**:\n",
    "\n",
    "- The size of input data: ($L,N,H_{in}$), or ($N,L,H_{in}$) when batch_first=True.\n",
    "\n",
    "  $N$ = batch size\n",
    "  \n",
    "  $L$ = sequence length\n",
    "  \n",
    "  $H_{in}$ = input size\n",
    "  \n",
    "- The size of the connected linear layer: ($H_{rnn-out}, H_{out}$)\n",
    "    \n",
    "  $H_{rnn-out}$ = hidden size of the rnn layer\n",
    "  \n",
    "  $H_{out}$ = output size of the linear layer"
   ]
  },
  {
   "cell_type": "code",
   "execution_count": 11,
   "metadata": {},
   "outputs": [],
   "source": [
    "class rnn(nn.Module):\n",
    "    \n",
    "    def __init__(self, input_size=1, output_size=1, hidden_size=32, num_layers=1, dropout=0.2,\n",
    "                 seq_length_in = 7, seq_length_out = 1, batch_first=True, \n",
    "                 activation_function='relu', random_init=True):\n",
    "        super().__init__()\n",
    "        \n",
    "        '''\n",
    "        Initialize the hyperparameters and the layers of the network, including rnn layers and a linear layer.\n",
    "        input_size: int, dimension of the input features at each time step\n",
    "        output_size: int, dimension of the target at each time step\n",
    "        hidden_size: number of neuros in rnn layers\n",
    "        num_layers: number of rnn layers\n",
    "        dropout: dropout rate in rnn layers\n",
    "        seq_length_in: the sequence length of input data\n",
    "        seq_length_out: the sequence length of output (target) data\n",
    "        batch_first: boolean, if true, the size of the input data should be: \n",
    "                     [batch_size (number of samples), sequence length, features(or targets)]\n",
    "        activation_function: str, activation function in rnn layers\n",
    "        random_init: boolean, if true, the initial hidden states of the rnn layers are sampled from a normal distribution;\n",
    "                     Otherwise, it is set to zero. \n",
    "        '''\n",
    "        self.recurrent = torch.nn.RNN(input_size, hidden_size, num_layers, nonlinearity=activation_function,\n",
    "                                                  batch_first=batch_first, dropout=dropout)\n",
    "        self.linear = torch.nn.Linear(hidden_size, output_size)\n",
    "        self.batch_first = batch_first\n",
    "        self.random_init = random_init\n",
    "        self.num_layers = num_layers\n",
    "        self.hidden_size = hidden_size\n",
    "        self.seq_length_out = seq_length_out\n",
    "        self.output_size = output_size\n",
    "        \n",
    "    def forward(self, x):\n",
    "        '''\n",
    "        x: torch.tensor, the input\n",
    "        \n",
    "        Feedforward propagation of the input to the output.\n",
    "        '''\n",
    "\n",
    "        h_0 = None\n",
    "\n",
    "        if self.random_init:\n",
    "            #(D*num_layers,N,Hout​)\n",
    "            h_0 = torch.randn(self.num_layers, x.shape[0] if self.batch_first else x.shape[1], self.hidden_size)\n",
    "        \n",
    "        # feedforward propagation of the input to the output   \n",
    "        out_rec, _ = self.recurrent(x, h_0) \n",
    "        output = self.linear(out_rec)[:,-self.seq_length_out,:].reshape(x.shape[0], self.seq_length_out, self.output_size) if self.batch_first else self.linear(out_rec)[-self.seq_length_out,:,:].reshape( self.seq_length_out, x.shape[0], self.output_size)\n",
    "        return output"
   ]
  },
  {
   "cell_type": "code",
   "execution_count": 12,
   "metadata": {},
   "outputs": [
    {
     "name": "stderr",
     "output_type": "stream",
     "text": [
      "/opt/homebrew/anaconda3/envs/TSDM-env/lib/python3.9/site-packages/torch/nn/modules/rnn.py:82: UserWarning: dropout option adds dropout after all but last recurrent layer, so non-zero dropout expects num_layers greater than 1, but got dropout=0.2 and num_layers=1\n",
      "  warnings.warn(\"dropout option adds dropout after all but last \"\n"
     ]
    },
    {
     "data": {
      "text/plain": [
       "rnn(\n",
       "  (recurrent): RNN(1, 32, batch_first=True, dropout=0.2)\n",
       "  (linear): Linear(in_features=32, out_features=1, bias=True)\n",
       ")"
      ]
     },
     "execution_count": 12,
     "metadata": {},
     "output_type": "execute_result"
    }
   ],
   "source": [
    "model = rnn()\n",
    "model"
   ]
  },
  {
   "cell_type": "markdown",
   "metadata": {},
   "source": [
    "**e)** Complete the function **training_process()** and train the rnn model.\n"
   ]
  },
  {
   "cell_type": "code",
   "execution_count": 13,
   "metadata": {},
   "outputs": [
    {
     "name": "stdout",
     "output_type": "stream",
     "text": [
      "1\n"
     ]
    }
   ],
   "source": [
    "# The hyperparameters\n",
    "epochs = 256\n",
    "hidden_size = 32\n",
    "num_layers = 2\n",
    "input_size = train_X.shape[2]\n",
    "seq_length_in = train_X.shape[1]\n",
    "output_size = train_y.shape[2]\n",
    "print(output_size)\n",
    "seq_length_out = train_y.shape[1]\n",
    "activation_function = 'relu'\n",
    "dropout_rate = 0.2\n",
    "batch_size = 128\n",
    "early_stop_patience = 30\n",
    "batch_first = True\n",
    "random_init = False\n",
    "\n",
    "# Dataloader\n",
    "dataset = TensorDataset(train_X, train_y)\n",
    "loader = DataLoader(dataset, batch_size=batch_size)\n",
    "\n",
    "model = rnn(input_size=input_size, output_size=output_size, hidden_size=hidden_size, num_layers=num_layers,\n",
    "            dropout=dropout_rate, seq_length_in = seq_length_in, seq_length_out = seq_length_out,\n",
    "            batch_first=batch_first, activation_function=activation_function, random_init=random_init)\n",
    "\n",
    "# Define the adam optimizer\n",
    "optimizer = torch.optim.Adam(model.parameters())"
   ]
  },
  {
   "cell_type": "code",
   "execution_count": 14,
   "metadata": {},
   "outputs": [],
   "source": [
    "def training_process(model, epochs, loader, optimizer, test_X_tensor, test_y_tensor, early_stop_patience):\n",
    "    '''\n",
    "    The training process is monitored by early stopping\n",
    "    \n",
    "    Inputs:\n",
    "    model: the neural network object of the given class\n",
    "    epochs: training iterations\n",
    "    loader: data loader for mini-batch training\n",
    "    optimizer: the given optimizer\n",
    "    test_X_tensor: torch.tensor, the input sequneces of test data\n",
    "    test_y_tensor: torcg.tensor, the target sequences of test data\n",
    "    early_stop_patience: int, the epochs for stopping the training\n",
    "    \n",
    "    Outputs:\n",
    "    best_model: the model with the lowest test error. Use deepcopy() to copy the best one.\n",
    "    train_losses: training losses\n",
    "    test_losses: test losses\n",
    "    '''\n",
    "    train_losses = [] # save the average training loss of each iteration\n",
    "    test_losses = [] # save the average test loss of each iteration\n",
    "    best_model = deepcopy(model)\n",
    "    \n",
    "    best_epoch = 0 # the epoch of the lowest test loss\n",
    "    lowest_loss = sys.float_info.max # the current lowest test loss\n",
    "    stop_epochs = 0\n",
    "    \n",
    "    # Define the MSE loss function\n",
    "    loss = torch.nn.MSELoss()\n",
    "\n",
    "    # Training process\n",
    "    for epoch in range(epochs):\n",
    "        # set training mode\n",
    "        model.train()\n",
    "        running_losses = 0.0\n",
    "\n",
    "        # Implement the training loop using mini-batch \n",
    "        for idx, batch in enumerate(loader):\n",
    "            optimizer.zero_grad()\n",
    "            x,y = batch\n",
    "            output = model(x)\n",
    "            loss_value = loss(output, y)\n",
    "            running_losses += loss_value.item()\n",
    "            loss_value.backward()\n",
    "            optimizer.step()\n",
    "        train_losses.append(running_losses / (idx+1))\n",
    "\n",
    "\n",
    "        # compute test error in each epoch and add it to test_losses\n",
    "        # Do the same for training loss as well\n",
    "        # print the test error in each 10 epochs\n",
    "        model.eval()\n",
    "        output = model(test_X_tensor)\n",
    "        loss_value = loss(output, test_y_tensor).item()\n",
    "        test_losses.append(loss_value)\n",
    "        if(epoch % 10 == 0):\n",
    "            print(epoch, loss_value, f\"minloss {lowest_loss}\")\n",
    "        \n",
    "        # Implment early stopping\n",
    "        # Update the lowest loss, when the newest test loss is smaller.\n",
    "        # Otherwise stop_epochs += 1\n",
    "        # Stop learning and return the lowest test loss, when the stop_epochs is greater than or equal to\n",
    "        # the early_stop_patience\n",
    "        if(loss_value < lowest_loss):\n",
    "            lowest_loss = loss_value\n",
    "            stop_epochs = 0\n",
    "            best_epoch = epoch\n",
    "            best_model = deepcopy(model)\n",
    "        else:\n",
    "            stop_epochs += 1\n",
    "            if(stop_epochs > early_stop_patience):\n",
    "               break\n",
    "    return best_model, train_losses, test_losses"
   ]
  },
  {
   "cell_type": "code",
   "execution_count": 15,
   "metadata": {},
   "outputs": [
    {
     "name": "stdout",
     "output_type": "stream",
     "text": [
      "0 0.012026093900203705 minloss 1.7976931348623157e+308\n",
      "10 0.009618230164051056 minloss 0.009259222075343132\n",
      "20 0.007893619127571583 minloss 0.00772760808467865\n",
      "30 0.007171585224568844 minloss 0.00714563112705946\n",
      "40 0.007137771230190992 minloss 0.007018772419542074\n",
      "50 0.007096882909536362 minloss 0.006926591973751783\n",
      "60 0.0070138005539774895 minloss 0.006881749257445335\n",
      "70 0.006925155874341726 minloss 0.006877850275486708\n",
      "80 0.006895408965647221 minloss 0.006771528162062168\n",
      "90 0.006807426456362009 minloss 0.006720472127199173\n",
      "100 0.006774929352104664 minloss 0.0066327424719929695\n",
      "110 0.006871124263852835 minloss 0.0066327424719929695\n",
      "120 0.007000121288001537 minloss 0.0066327424719929695\n"
     ]
    }
   ],
   "source": [
    "model, train_losses, test_losses = training_process(model, epochs, loader, optimizer, \n",
    "                                                    test_X, test_y, early_stop_patience)"
   ]
  },
  {
   "cell_type": "code",
   "execution_count": 20,
   "metadata": {},
   "outputs": [
    {
     "data": {
      "text/plain": [
       "<matplotlib.legend.Legend at 0x28c36a220>"
      ]
     },
     "execution_count": 20,
     "metadata": {},
     "output_type": "execute_result"
    },
    {
     "data": {
      "image/png": "[encoded data removed]",
      "text/plain": [
       "<Figure size 640x480 with 1 Axes>"
      ]
     },
     "metadata": {},
     "output_type": "display_data"
    }
   ],
   "source": [
    "# Plot the learning curve\n",
    "plt.plot(train_losses, label='train loss')\n",
    "plt.plot(test_losses, label='test loss')\n",
    "plt.legend()"
   ]
  },
  {
   "cell_type": "code",
   "execution_count": 17,
   "metadata": {},
   "outputs": [],
   "source": [
    "# Plot the comparison between measurements and predictions of the training data\n",
    "### Your Code Here ###\n",
    "pass"
   ]
  },
  {
   "cell_type": "code",
   "execution_count": 18,
   "metadata": {},
   "outputs": [],
   "source": [
    "# Plot the comparison between measurements and predictions of the test data\n",
    "### Your Code Here ###\n",
    "pass"
   ]
  },
  {
   "cell_type": "markdown",
   "metadata": {},
   "source": [
    "### Task 2: Wind Power Generation Forecasts using LSTM (Bonus)\n",
    "\n",
    "In this exercise you need to implement an LSTM model to forecast wind power generation in the specific period based on the given 7 weather features."
   ]
  },
  {
   "cell_type": "markdown",
   "metadata": {},
   "source": [
    "**a)** Import wind farm time-series dataset **wf.hdf5** in the data folder. "
   ]
  },
  {
   "cell_type": "code",
   "execution_count": 19,
   "metadata": {},
   "outputs": [
    {
     "ename": "HDF5ExtError",
     "evalue": "HDF5 error back trace\n\n  File \"H5F.c\", line 620, in H5Fopen\n    unable to open file\n  File \"H5VLcallback.c\", line 3502, in H5VL_file_open\n    failed to iterate over available VOL connector plugins\n  File \"H5PLpath.c\", line 579, in H5PL__path_table_iterate\n    can't iterate over plugins in plugin path '(null)'\n  File \"H5PLpath.c\", line 620, in H5PL__path_table_iterate_process_path\n    can't open directory: /opt/homebrew/anaconda3/envs/TSDM-env/lib/hdf5/plugin\n  File \"H5VLcallback.c\", line 3351, in H5VL__file_open\n    open failed\n  File \"H5VLnative_file.c\", line 97, in H5VL__native_file_open\n    unable to open file\n  File \"H5Fint.c\", line 1990, in H5F_open\n    unable to read superblock\n  File \"H5Fsuper.c\", line 617, in H5F__super_read\n    truncated file: eof = 96, sblock->base_addr = 0, stored_eof = 2048\n\nEnd of HDF5 error back trace\n\nUnable to open/create file './data/wf.hdf5'",
     "output_type": "error",
     "traceback": [
      "\u001b[0;31m---------------------------------------------------------------------------\u001b[0m",
      "\u001b[0;31mHDF5ExtError\u001b[0m                              Traceback (most recent call last)",
      "Cell \u001b[0;32mIn[19], line 1\u001b[0m\n\u001b[0;32m----> 1\u001b[0m datastore \u001b[38;5;241m=\u001b[39m \u001b[43mpd\u001b[49m\u001b[38;5;241;43m.\u001b[39;49m\u001b[43mHDFStore\u001b[49m\u001b[43m(\u001b[49m\u001b[38;5;124;43m'\u001b[39;49m\u001b[38;5;124;43m./data/wf.hdf5\u001b[39;49m\u001b[38;5;124;43m'\u001b[39;49m\u001b[43m)\u001b[49m\n\u001b[1;32m      2\u001b[0m data \u001b[38;5;241m=\u001b[39m datastore\u001b[38;5;241m.\u001b[39mget(\u001b[38;5;124m'\u001b[39m\u001b[38;5;124mwindfarm\u001b[39m\u001b[38;5;124m'\u001b[39m)\n",
      "File \u001b[0;32m/opt/homebrew/anaconda3/envs/TSDM-env/lib/python3.9/site-packages/pandas/io/pytables.py:578\u001b[0m, in \u001b[0;36mHDFStore.__init__\u001b[0;34m(self, path, mode, complevel, complib, fletcher32, **kwargs)\u001b[0m\n\u001b[1;32m    576\u001b[0m \u001b[38;5;28mself\u001b[39m\u001b[38;5;241m.\u001b[39m_fletcher32 \u001b[38;5;241m=\u001b[39m fletcher32\n\u001b[1;32m    577\u001b[0m \u001b[38;5;28mself\u001b[39m\u001b[38;5;241m.\u001b[39m_filters \u001b[38;5;241m=\u001b[39m \u001b[38;5;28;01mNone\u001b[39;00m\n\u001b[0;32m--> 578\u001b[0m \u001b[38;5;28;43mself\u001b[39;49m\u001b[38;5;241;43m.\u001b[39;49m\u001b[43mopen\u001b[49m\u001b[43m(\u001b[49m\u001b[43mmode\u001b[49m\u001b[38;5;241;43m=\u001b[39;49m\u001b[43mmode\u001b[49m\u001b[43m,\u001b[49m\u001b[43m \u001b[49m\u001b[38;5;241;43m*\u001b[39;49m\u001b[38;5;241;43m*\u001b[39;49m\u001b[43mkwargs\u001b[49m\u001b[43m)\u001b[49m\n",
      "File \u001b[0;32m/opt/homebrew/anaconda3/envs/TSDM-env/lib/python3.9/site-packages/pandas/io/pytables.py:737\u001b[0m, in \u001b[0;36mHDFStore.open\u001b[0;34m(self, mode, **kwargs)\u001b[0m\n\u001b[1;32m    731\u001b[0m     msg \u001b[38;5;241m=\u001b[39m (\n\u001b[1;32m    732\u001b[0m         \u001b[38;5;124m\"\u001b[39m\u001b[38;5;124mCannot open HDF5 file, which is already opened, \u001b[39m\u001b[38;5;124m\"\u001b[39m\n\u001b[1;32m    733\u001b[0m         \u001b[38;5;124m\"\u001b[39m\u001b[38;5;124meven in read-only mode.\u001b[39m\u001b[38;5;124m\"\u001b[39m\n\u001b[1;32m    734\u001b[0m     )\n\u001b[1;32m    735\u001b[0m     \u001b[38;5;28;01mraise\u001b[39;00m \u001b[38;5;167;01mValueError\u001b[39;00m(msg)\n\u001b[0;32m--> 737\u001b[0m \u001b[38;5;28mself\u001b[39m\u001b[38;5;241m.\u001b[39m_handle \u001b[38;5;241m=\u001b[39m \u001b[43mtables\u001b[49m\u001b[38;5;241;43m.\u001b[39;49m\u001b[43mopen_file\u001b[49m\u001b[43m(\u001b[49m\u001b[38;5;28;43mself\u001b[39;49m\u001b[38;5;241;43m.\u001b[39;49m\u001b[43m_path\u001b[49m\u001b[43m,\u001b[49m\u001b[43m \u001b[49m\u001b[38;5;28;43mself\u001b[39;49m\u001b[38;5;241;43m.\u001b[39;49m\u001b[43m_mode\u001b[49m\u001b[43m,\u001b[49m\u001b[43m \u001b[49m\u001b[38;5;241;43m*\u001b[39;49m\u001b[38;5;241;43m*\u001b[39;49m\u001b[43mkwargs\u001b[49m\u001b[43m)\u001b[49m\n",
      "File \u001b[0;32m/opt/homebrew/anaconda3/envs/TSDM-env/lib/python3.9/site-packages/tables/file.py:300\u001b[0m, in \u001b[0;36mopen_file\u001b[0;34m(filename, mode, title, root_uep, filters, **kwargs)\u001b[0m\n\u001b[1;32m    295\u001b[0m             \u001b[38;5;28;01mraise\u001b[39;00m \u001b[38;5;167;01mValueError\u001b[39;00m(\n\u001b[1;32m    296\u001b[0m                 \u001b[38;5;124m\"\u001b[39m\u001b[38;5;124mThe file \u001b[39m\u001b[38;5;124m'\u001b[39m\u001b[38;5;132;01m%s\u001b[39;00m\u001b[38;5;124m'\u001b[39m\u001b[38;5;124m is already opened.  Please \u001b[39m\u001b[38;5;124m\"\u001b[39m\n\u001b[1;32m    297\u001b[0m                 \u001b[38;5;124m\"\u001b[39m\u001b[38;5;124mclose it before reopening in write mode.\u001b[39m\u001b[38;5;124m\"\u001b[39m \u001b[38;5;241m%\u001b[39m filename)\n\u001b[1;32m    299\u001b[0m \u001b[38;5;66;03m# Finally, create the File instance, and return it\u001b[39;00m\n\u001b[0;32m--> 300\u001b[0m \u001b[38;5;28;01mreturn\u001b[39;00m \u001b[43mFile\u001b[49m\u001b[43m(\u001b[49m\u001b[43mfilename\u001b[49m\u001b[43m,\u001b[49m\u001b[43m \u001b[49m\u001b[43mmode\u001b[49m\u001b[43m,\u001b[49m\u001b[43m \u001b[49m\u001b[43mtitle\u001b[49m\u001b[43m,\u001b[49m\u001b[43m \u001b[49m\u001b[43mroot_uep\u001b[49m\u001b[43m,\u001b[49m\u001b[43m \u001b[49m\u001b[43mfilters\u001b[49m\u001b[43m,\u001b[49m\u001b[43m \u001b[49m\u001b[38;5;241;43m*\u001b[39;49m\u001b[38;5;241;43m*\u001b[39;49m\u001b[43mkwargs\u001b[49m\u001b[43m)\u001b[49m\n",
      "File \u001b[0;32m/opt/homebrew/anaconda3/envs/TSDM-env/lib/python3.9/site-packages/tables/file.py:750\u001b[0m, in \u001b[0;36mFile.__init__\u001b[0;34m(self, filename, mode, title, root_uep, filters, **kwargs)\u001b[0m\n\u001b[1;32m    747\u001b[0m \u001b[38;5;28mself\u001b[39m\u001b[38;5;241m.\u001b[39mparams \u001b[38;5;241m=\u001b[39m params\n\u001b[1;32m    749\u001b[0m \u001b[38;5;66;03m# Now, it is time to initialize the File extension\u001b[39;00m\n\u001b[0;32m--> 750\u001b[0m \u001b[38;5;28;43mself\u001b[39;49m\u001b[38;5;241;43m.\u001b[39;49m\u001b[43m_g_new\u001b[49m\u001b[43m(\u001b[49m\u001b[43mfilename\u001b[49m\u001b[43m,\u001b[49m\u001b[43m \u001b[49m\u001b[43mmode\u001b[49m\u001b[43m,\u001b[49m\u001b[43m \u001b[49m\u001b[38;5;241;43m*\u001b[39;49m\u001b[38;5;241;43m*\u001b[39;49m\u001b[43mparams\u001b[49m\u001b[43m)\u001b[49m\n\u001b[1;32m    752\u001b[0m \u001b[38;5;66;03m# Check filters and set PyTables format version for new files.\u001b[39;00m\n\u001b[1;32m    753\u001b[0m new \u001b[38;5;241m=\u001b[39m \u001b[38;5;28mself\u001b[39m\u001b[38;5;241m.\u001b[39m_v_new\n",
      "File \u001b[0;32m/opt/homebrew/anaconda3/envs/TSDM-env/lib/python3.9/site-packages/tables/hdf5extension.pyx:484\u001b[0m, in \u001b[0;36mtables.hdf5extension.File._g_new\u001b[0;34m()\u001b[0m\n",
      "\u001b[0;31mHDF5ExtError\u001b[0m: HDF5 error back trace\n\n  File \"H5F.c\", line 620, in H5Fopen\n    unable to open file\n  File \"H5VLcallback.c\", line 3502, in H5VL_file_open\n    failed to iterate over available VOL connector plugins\n  File \"H5PLpath.c\", line 579, in H5PL__path_table_iterate\n    can't iterate over plugins in plugin path '(null)'\n  File \"H5PLpath.c\", line 620, in H5PL__path_table_iterate_process_path\n    can't open directory: /opt/homebrew/anaconda3/envs/TSDM-env/lib/hdf5/plugin\n  File \"H5VLcallback.c\", line 3351, in H5VL__file_open\n    open failed\n  File \"H5VLnative_file.c\", line 97, in H5VL__native_file_open\n    unable to open file\n  File \"H5Fint.c\", line 1990, in H5F_open\n    unable to read superblock\n  File \"H5Fsuper.c\", line 617, in H5F__super_read\n    truncated file: eof = 96, sblock->base_addr = 0, stored_eof = 2048\n\nEnd of HDF5 error back trace\n\nUnable to open/create file './data/wf.hdf5'"
     ]
    }
   ],
   "source": [
    "datastore = pd.HDFStore('./data/wf.hdf5')\n",
    "data = datastore.get('windfarm')"
   ]
  },
  {
   "cell_type": "code",
   "execution_count": null,
   "metadata": {},
   "outputs": [],
   "source": [
    "data.head(5)"
   ]
  },
  {
   "cell_type": "markdown",
   "metadata": {},
   "source": [
    "The windfarm dataset contains **hourly averaged wind power generation time series** for two consecutive years and **the corresponding day-ahead meteorological forecasts** using the European Centre for Medium-Range Weather Forecasts (ECMWF) weather model.\n",
    "\n",
    "The data set contains the following data items:\n",
    "\n",
    "- Time Stamp of the measurement\n",
    "- Forecasting Time, Time between the creation of the forecast to the forecasted point in time\n",
    "- Air Pressure of the measurement\n",
    "- Air Temperature of the measurement\n",
    "- Humidity\n",
    "- Wind Speed in 100m height\n",
    "- Wind Speed in 10m height\n",
    "- Wind Direction (zonal) in 100m height\n",
    "- Wind Direction (meridional) in 100m height\n",
    "- Wind Power Generation of the wind farm\n",
    "\n",
    "**The power generation time series are normalized** with the respective nominal capacity of the wind farm in order to enable a scale-free comparison and to mask the original characteristics of the wind farm. \n",
    "\n",
    "Additionally, **all weather situations are normalized in the range \\[0..1\\]**. \n",
    "\n",
    "The data set is pre-filtered to **discard any period of time longer than 24h in which no energy has been produced**, as this is an indicator of a wind farm malfunction."
   ]
  },
  {
   "cell_type": "markdown",
   "metadata": {},
   "source": [
    "**b)** Visualize the weather features and the power generation."
   ]
  },
  {
   "cell_type": "code",
   "execution_count": null,
   "metadata": {},
   "outputs": [],
   "source": [
    "for col in data.columns[2:]:\n",
    "    plt.figure(figsize=(10,6))\n",
    "    plt.plot(data[col].values[:1000])\n",
    "    plt.title(col)\n",
    "    plt.show()"
   ]
  },
  {
   "cell_type": "markdown",
   "metadata": {},
   "source": [
    "**c)** Convert the wind farm time series to sequence-to-sequence training samples.\n",
    "        \n",
    "**Hints**:\n",
    "\n",
    "- The dimension of input sequences should be $[N, 6, 7]$, where $N$ indicates the number of samples, 6 indicates the time steps of the input sequence, and 7 indicates the dimension of weather features.\n",
    "\n",
    "- The dimension of an output sequnece should be $[N, 6, 1]$, where $N$ indicates the number of samples, 6 indicates the time steps of the target sequence, and 1 indicates the dimension of the target, i.e., wind power generation.\n",
    "\n",
    "- The **discarded periods** should be considered while building sequence-to-squence samples. If the difference between the two successive time indices is greater than 1 hour, **print** and **store** the two successive time indices.\n",
    "\n",
    "- You can compare your cleaned sequence data to the given data in 'clean_wf.hdf5'.\n",
    "\n",
    "- If you have no idea how to implement the function **seq_2_seq**, you can directly use 'clean_wf.hdf5' to finish the following tasks."
   ]
  },
  {
   "cell_type": "code",
   "execution_count": null,
   "metadata": {},
   "outputs": [],
   "source": [
    "train, test = data[:12000], data[12000:]\n",
    "seq_length = 6"
   ]
  },
  {
   "cell_type": "code",
   "execution_count": null,
   "metadata": {
    "scrolled": true
   },
   "outputs": [],
   "source": [
    "# Print the discarded periods in training dataset \n",
    "discarded_periods_train = []\n",
    "discarded_periods_train.append(train.index[0])\n",
    "print('discarded periods in training dataset:\\n')\n",
    "for idx_1, idx_0 in zip(train.index[1:], train.index[:-1]):\n",
    "    # if the difference between two successive time indices is greater than 1 hour, print and store the time indices.     \n",
    "    ### Your Code Here ###\n",
    "    pass\n",
    "    \n",
    "discarded_periods_train.append(train.index[-1])\n",
    "\n",
    "\n",
    "# Print the discarded periods in test dataset \n",
    "discarded_periods_test = []\n",
    "discarded_periods_test.append(test.index[0])\n",
    "print('\\ndiscarded periods in test dataset:\\n')\n",
    "for idx_1, idx_0 in zip(test.index[1:], test.index[:-1]):\n",
    "    # if the difference between two successive time indices is greater than 1 hour, print and store the time indices.\n",
    "    ### Your Code Here ###\n",
    "    pass\n",
    "    \n",
    "discarded_periods_test.append(test.index[-1])\n"
   ]
  },
  {
   "cell_type": "code",
   "execution_count": null,
   "metadata": {},
   "outputs": [],
   "source": [
    "def seq_2_seq(data, discarded_periods, seq_length):\n",
    "    '''\n",
    "    Clean the discareded periods and convert the data to sequence-to-sequence data\n",
    "    \n",
    "    Inputs:\n",
    "    data: pd.DataFrame, the raw data\n",
    "    discareded_periods: list, which contains the interrupted time indices.\n",
    "    seq_length: int, the sequence length of generated input and output data.\n",
    "    \n",
    "    '''\n",
    "    data_seq2seq = pd.DataFrame([],columns=data.columns)\n",
    "    for i in range(0,len(discarded_periods), 2):\n",
    "        data_selected = data.loc[discarded_periods[i]:discarded_periods[i+1]]\n",
    "        if data_selected.shape[0] < seq_length:\n",
    "            continue\n",
    "        \n",
    "        for idx in range(data_selected.shape[0]-seq_length):\n",
    "            # concatenate the successive samples with the given length to the data_seq2seq\n",
    "            ### Your Code Here ###\n",
    "            pass\n",
    " \n",
    "    return data_seq2seq"
   ]
  },
  {
   "cell_type": "code",
   "execution_count": null,
   "metadata": {},
   "outputs": [],
   "source": [
    "train_seq = seq_2_seq(train, discarded_periods_train, seq_length)"
   ]
  },
  {
   "cell_type": "code",
   "execution_count": null,
   "metadata": {},
   "outputs": [],
   "source": [
    "train_seq.iloc[:14]"
   ]
  },
  {
   "cell_type": "code",
   "execution_count": null,
   "metadata": {},
   "outputs": [],
   "source": [
    "test_seq = seq_2_seq(test, discarded_periods_test, seq_length)"
   ]
  },
  {
   "cell_type": "code",
   "execution_count": null,
   "metadata": {},
   "outputs": [],
   "source": [
    "train_seq.iloc[:14]"
   ]
  },
  {
   "cell_type": "markdown",
   "metadata": {},
   "source": [
    "You can compare your cleaned sequence data to the given data in 'clean_wf.hdf5'.\n",
    "\n",
    "If you have no idea how to implement the function **seq_2_seq**, you can directly use 'clean_wf.hdf5' to finish the following tasks."
   ]
  },
  {
   "cell_type": "code",
   "execution_count": null,
   "metadata": {},
   "outputs": [],
   "source": [
    "# import the clean_wd,hdf5 if you can not implement the function seq_2_seq\n",
    "# Otherwise, use the function seq_2_seq to generate seq-seq samples for training and test.\n",
    "### Your Code Here ###\n",
    "pass"
   ]
  },
  {
   "cell_type": "code",
   "execution_count": null,
   "metadata": {},
   "outputs": [],
   "source": [
    "# Split the train_seq/test_seq to train_X and train_y/test_X and test_y with the size \n",
    "# [number of samples, sequence length, features(target)], and convert to torch.tensor (dtype=torch.float32).\n",
    "### Your Code Here ###\n",
    "pass"
   ]
  },
  {
   "cell_type": "code",
   "execution_count": null,
   "metadata": {},
   "outputs": [],
   "source": [
    "print(f'size of train_X_tensor: {train_X_tensor.shape}')\n",
    "train_X_tensor[0]"
   ]
  },
  {
   "cell_type": "code",
   "execution_count": null,
   "metadata": {},
   "outputs": [],
   "source": [
    "print(f'size of test_X_tensor: {test_X_tensor.shape}')\n",
    "test_X_tensor[0]"
   ]
  },
  {
   "cell_type": "markdown",
   "metadata": {},
   "source": [
    "**d)** Complete the class of LSTM models.\n",
    "\n",
    "The model contains [LSTM Layer](https://pytorch.org/docs/stable/generated/torch.nn.LSTM.html), which is followed by a Linear layer."
   ]
  },
  {
   "cell_type": "code",
   "execution_count": null,
   "metadata": {},
   "outputs": [],
   "source": [
    "class lstm(nn.Module):\n",
    "    \n",
    "    def __init__(self, input_size=1, output_size=1, hidden_size=32, num_layers=1, dropout=0.2,\n",
    "                 seq_length_in = 7, seq_length_out = 1, batch_first=True, random_init=True):\n",
    "        super().__init__()\n",
    "        '''\n",
    "        Initialize the hyperparameters and the layers of the network, including lstm layers and a linear layer.\n",
    "        input_size: int, dimension of the input features at each time step\n",
    "        output_size: int, dimension of the target at each time step\n",
    "        hidden_size: number of neuros in lstm layers\n",
    "        num_layers: number of lstm layers\n",
    "        dropout: dropout rate in lstm layers\n",
    "        seq_length_in: the sequence length of input data\n",
    "        seq_length_out: the sequence length of output (target) data\n",
    "        batch_first: boolean, if true, the size of the input data should be: \n",
    "                     [batch_size (number of samples), sequence length, features(or targets)]\n",
    "        random_init: boolean, if true, the initial hidden states and cell states of the lstm layers are sampled from a normal \n",
    "                     distribution; Otherwise, it is set to zero. \n",
    "        '''\n",
    "        ### Your Code Here ###\n",
    "        pass\n",
    "        \n",
    "    def forward(self, x):\n",
    "        '''\n",
    "        x: torch.tensor, the input\n",
    "        \n",
    "        Feedforward propagation of the input to the output.\n",
    "        '''\n",
    "        \n",
    "        if self.batch_first:\n",
    "            # get the batch size from the input x to create the initial hidden states h0 and cell states c0\n",
    "            ### Your Code Here ###\n",
    "            pass\n",
    "        else:\n",
    "            ### Your Code Here ###\n",
    "            pass\n",
    "        if self.random_init:\n",
    "            ### Your Code Here ###\n",
    "            pass\n",
    "        else:\n",
    "            ### Your Code Here ###\n",
    "            pass\n",
    "        \n",
    "        # feedforward propagation of the input to the output \n",
    "        ### Your Code Here ###\n",
    "        pass\n",
    "        return x"
   ]
  },
  {
   "cell_type": "markdown",
   "metadata": {},
   "source": [
    "**e)** Declare an lstm model and train it using the above function **training_process()**.\n"
   ]
  },
  {
   "cell_type": "code",
   "execution_count": null,
   "metadata": {},
   "outputs": [],
   "source": [
    "# The hyperparameters\n",
    "epochs = 256\n",
    "hidden_size = 32\n",
    "num_layers = 2\n",
    "input_size = train_X_tensor.shape[2]\n",
    "seq_length_in = train_X_tensor.shape[1]\n",
    "output_size = train_y_tensor.shape[2]\n",
    "seq_length_out = train_y_tensor.shape[1]\n",
    "dropout_rate = 0.2\n",
    "batch_size = 128\n",
    "early_stop_patience = 30\n",
    "batch_first = True\n",
    "random_init = True\n",
    "\n",
    "# Dataloader\n",
    "dataset = TensorDataset(train_X_tensor, train_y_tensor)\n",
    "loader = DataLoader(dataset, batch_size=batch_size)"
   ]
  },
  {
   "cell_type": "code",
   "execution_count": null,
   "metadata": {},
   "outputs": [],
   "source": [
    "lstm_model = lstm(input_size=input_size, output_size=output_size, hidden_size=hidden_size, num_layers=num_layers,\n",
    "                  dropout=dropout_rate, seq_length_in = seq_length_in, seq_length_out = seq_length_out,\n",
    "                  batch_first=batch_first, random_init=random_init)\n",
    "\n",
    "\n",
    "\n",
    "# Define loss function\n",
    "### Your Code Here ###\n",
    "pass\n",
    "\n",
    "# Define optimizer\n",
    "### Your Code Here ###\n",
    "pass\n",
    "\n",
    "# Train the lstm model using the function training_process()\n",
    "lstm_model, train_losses, test_losses = training_process(lstm_model, epochs, loader, optimizer_lstm, \n",
    "                                                         test_X_tensor, test_y_tensor, early_stop_patience)"
   ]
  },
  {
   "cell_type": "code",
   "execution_count": null,
   "metadata": {},
   "outputs": [],
   "source": [
    "# Plot the comparison between measurements and predictions of the test data at the first time step, \n",
    "# i.e, plt.plot(test_y_tensor[:,0,:])\n",
    "### Your Code Here ###\n",
    "pass"
   ]
  },
  {
   "cell_type": "code",
   "execution_count": null,
   "metadata": {},
   "outputs": [],
   "source": [
    "# Calculate the error of each time step. \n",
    "### Your Code Here ###\n",
    "pass"
   ]
  },
  {
   "cell_type": "code",
   "execution_count": null,
   "metadata": {},
   "outputs": [],
   "source": []
  }
 ],
 "metadata": {
  "kernelspec": {
   "display_name": "Python 3",
   "language": "python",
   "name": "python3"
  },
  "language_info": {
   "codemirror_mode": {
    "name": "ipython",
    "version": 3
   },
   "file_extension": ".py",
   "mimetype": "text/x-python",
   "name": "python",
   "nbconvert_exporter": "python",
   "pygments_lexer": "ipython3",
   "version": "3.9.18"
  }
 },
 "nbformat": 4,
 "nbformat_minor": 4
}
